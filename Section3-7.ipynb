{
 "cells": [
  {
   "cell_type": "code",
   "execution_count": 1,
   "metadata": {},
   "outputs": [],
   "source": [
    "#### QIJIN CHEN / QCHE996 / Iteration 04 #####"
   ]
  },
  {
   "cell_type": "code",
   "execution_count": 2,
   "metadata": {},
   "outputs": [],
   "source": [
    "#Initialization the pyspark envionment, it will be named Assignment_722 and used for the assignment.\n",
    "import findspark\n",
    "findspark.init('/home/ubuntu/spark-2.1.1-bin-hadoop2.7')\n",
    "import pyspark\n",
    "from pyspark.sql import SparkSession\n",
    "spark = SparkSession.builder.appName(\"Assignment_722\").getOrCreate()"
   ]
  },
  {
   "cell_type": "code",
   "execution_count": 3,
   "metadata": {},
   "outputs": [
    {
     "name": "stdout",
     "output_type": "stream",
     "text": [
      "root\n",
      " |-- id: string (nullable = true)\n",
      " |-- gender: string (nullable = true)\n",
      " |-- age: string (nullable = true)\n",
      " |-- hypertension: string (nullable = true)\n",
      " |-- heart_disease: string (nullable = true)\n",
      " |-- ever_married: string (nullable = true)\n",
      " |-- work_type: string (nullable = true)\n",
      " |-- Residence_type: string (nullable = true)\n",
      " |-- avg_glucose_level: string (nullable = true)\n",
      " |-- bmi: string (nullable = true)\n",
      " |-- smoking_status: string (nullable = true)\n",
      " |-- stroke: string (nullable = true)\n",
      "\n"
     ]
    },
    {
     "data": {
      "text/plain": [
       "['id',\n",
       " 'gender',\n",
       " 'age',\n",
       " 'hypertension',\n",
       " 'heart_disease',\n",
       " 'ever_married',\n",
       " 'work_type',\n",
       " 'Residence_type',\n",
       " 'avg_glucose_level',\n",
       " 'bmi',\n",
       " 'smoking_status',\n",
       " 'stroke']"
      ]
     },
     "execution_count": 3,
     "metadata": {},
     "output_type": "execute_result"
    }
   ],
   "source": [
    "#Load csv file into spark and evaluate the status of it.\n",
    "dataF = spark.read.load(\"./stoke_dataset.csv\", format = \"csv\", header = \"true\")\n",
    "dataF.printSchema()\n",
    "dataF.columns"
   ]
  },
  {
   "cell_type": "code",
   "execution_count": 4,
   "metadata": {},
   "outputs": [],
   "source": [
    "#### Section 3 Data Preparation ####"
   ]
  },
  {
   "cell_type": "code",
   "execution_count": 5,
   "metadata": {},
   "outputs": [],
   "source": [
    "#### 3.1 Data Selection - Row Selection  / 3.4 Data Integration"
   ]
  },
  {
   "cell_type": "code",
   "execution_count": 6,
   "metadata": {},
   "outputs": [
    {
     "name": "stdout",
     "output_type": "stream",
     "text": [
      "Number of Instances before selection:  5110\n",
      "Number of Instances after selection:  1500\n"
     ]
    }
   ],
   "source": [
    "print(\"Number of Instances before selection: \",dataF.count())\n",
    "\n",
    "strokeData = dataF.filter(\"stroke == 1\")\n",
    "nonStrokeData = dataF.filter(\"stroke == 0\")\n",
    "\n",
    "# Using sampling technique to get 0.2 sampling\n",
    "sampleRest = nonStrokeData.sample(fraction=0.5, withReplacement = False)\n",
    "sampleRest = sampleRest.limit(751 + 500)\n",
    "\n",
    "# Concate two piece of data together as the selected test data\n",
    "selectedData = strokeData.union(sampleRest)\n",
    "print(\"Number of Instances after selection: \",selectedData.count())"
   ]
  },
  {
   "cell_type": "code",
   "execution_count": 7,
   "metadata": {},
   "outputs": [],
   "source": [
    "#### 3.1 Data Selection - Column Selection"
   ]
  },
  {
   "cell_type": "code",
   "execution_count": 8,
   "metadata": {},
   "outputs": [
    {
     "name": "stdout",
     "output_type": "stream",
     "text": [
      "Number of Columns:  12\n",
      "Columns:  ['id', 'gender', 'age', 'hypertension', 'heart_disease', 'ever_married', 'work_type', 'Residence_type', 'avg_glucose_level', 'bmi', 'smoking_status', 'stroke']\n",
      "Number of Columns:  11\n",
      "Columns:  ['id', 'gender', 'age', 'hypertension', 'heart_disease', 'ever_married', 'work_type', 'avg_glucose_level', 'bmi', 'smoking_status', 'stroke']\n"
     ]
    }
   ],
   "source": [
    "print(\"Number of Columns: \", len(selectedData.columns))\n",
    "print(\"Columns: \", selectedData.columns)\n",
    "\n",
    "selectedData = selectedData.drop(\"Residence_type\")\n",
    "\n",
    "print(\"Number of Columns: \", len(selectedData.columns))\n",
    "print(\"Columns: \", selectedData.columns)\n"
   ]
  },
  {
   "cell_type": "code",
   "execution_count": 9,
   "metadata": {},
   "outputs": [],
   "source": [
    "#### 3.2 Data Cleanning - Remove Missing Values"
   ]
  },
  {
   "cell_type": "code",
   "execution_count": 10,
   "metadata": {},
   "outputs": [
    {
     "name": "stdout",
     "output_type": "stream",
     "text": [
      "Number of Nulls before removal (BMI):  81\n",
      "Number of Nulls after removal (BMI):  0\n"
     ]
    }
   ],
   "source": [
    "from pyspark.sql.functions import col, when\n",
    "print(\"Number of Nulls before removal (BMI): \", selectedData.filter(\"bmi is null or bmi == 'N/A'\").count())\n",
    "\n",
    "selectedData = selectedData.withColumn(\"bmi\", when(col(\"bmi\") == \"N/A\", None).otherwise(col(\"bmi\")))\n",
    "selectedData = selectedData.na.drop(subset = \"bmi\")\n",
    "\n",
    "print(\"Number of Nulls after removal (BMI): \", selectedData.filter(\"bmi is null or bmi == 'N/A'\").count())"
   ]
  },
  {
   "cell_type": "code",
   "execution_count": 11,
   "metadata": {},
   "outputs": [
    {
     "name": "stdout",
     "output_type": "stream",
     "text": [
      "Number of Nulls before removal (smoking_status):  406\n",
      "Number of Nulls after removal (smoking_status):  0\n",
      "Possible Values Available: \n",
      "+---------------+\n",
      "| smoking_status|\n",
      "+---------------+\n",
      "|         smokes|\n",
      "|   never smoked|\n",
      "|formerly smoked|\n",
      "+---------------+\n",
      "\n"
     ]
    }
   ],
   "source": [
    "import random\n",
    "print(\"Number of Nulls before removal (smoking_status): \", selectedData.filter(\"smoking_status is null or smoking_status == 'Unknown'\").count())\n",
    "\n",
    "options = ['formerly smoked', 'never smoked', 'smokes']\n",
    "selectedData = selectedData.withColumn(\"smoking_status\", when(col(\"smoking_status\") == \"Unknown\", None).otherwise(col(\"smoking_status\")))\n",
    "selectedData = selectedData.fillna(random.choice(options), subset = \"smoking_status\")\n",
    "\n",
    "print(\"Number of Nulls after removal (smoking_status): \", selectedData.filter(\"smoking_status is null or smoking_status == 'Unknown'\").count())\n",
    "print(\"Possible Values Available: \")\n",
    "selectedData.select(\"smoking_status\").distinct().show()"
   ]
  },
  {
   "cell_type": "code",
   "execution_count": 12,
   "metadata": {},
   "outputs": [],
   "source": [
    "#### 3.2 Data Cleanning - Outliers"
   ]
  },
  {
   "cell_type": "code",
   "execution_count": 13,
   "metadata": {},
   "outputs": [
    {
     "name": "stdout",
     "output_type": "stream",
     "text": [
      "root\n",
      " |-- id: string (nullable = true)\n",
      " |-- gender: string (nullable = true)\n",
      " |-- age: double (nullable = true)\n",
      " |-- hypertension: string (nullable = true)\n",
      " |-- heart_disease: string (nullable = true)\n",
      " |-- ever_married: string (nullable = true)\n",
      " |-- work_type: string (nullable = true)\n",
      " |-- avg_glucose_level: double (nullable = true)\n",
      " |-- bmi: double (nullable = true)\n",
      " |-- smoking_status: string (nullable = false)\n",
      " |-- stroke: string (nullable = true)\n",
      "\n"
     ]
    }
   ],
   "source": [
    "# Convert Schema of each attributes\n",
    "from pyspark.sql.functions import col\n",
    "from pyspark.sql.types import (StructField,DoubleType,StringType,IntegerType)\n",
    "\n",
    "selectedData = selectedData.withColumn(\"bmi\",col(\"bmi\").cast(DoubleType())) \\\n",
    "    .withColumn(\"age\",col(\"age\").cast(DoubleType())) \\\n",
    "    .withColumn(\"avg_glucose_level\",col(\"avg_glucose_level\").cast(DoubleType()))\n",
    "selectedData.printSchema()"
   ]
  },
  {
   "cell_type": "code",
   "execution_count": 14,
   "metadata": {},
   "outputs": [
    {
     "data": {
      "text/plain": [
       "<matplotlib.axes._subplots.AxesSubplot at 0x7f14e9eb9940>"
      ]
     },
     "execution_count": 14,
     "metadata": {},
     "output_type": "execute_result"
    }
   ],
   "source": [
    "# BMI BMI BMI BMI BMI BMI BMI\n",
    "# BEFORE ---- WITH OUTLIER BOXPLOT\n",
    "import pandas as pd\n",
    "elementsToCheck = \"bmi\"\n",
    "selectedDataPd = selectedData.toPandas()\n",
    "selectedDataPd.boxplot(column=[elementsToCheck])"
   ]
  },
  {
   "cell_type": "code",
   "execution_count": 15,
   "metadata": {},
   "outputs": [
    {
     "name": "stdout",
     "output_type": "stream",
     "text": [
      "Number of instances before removal:  1419\n",
      "Number of Outliers / Extemes (BEFORE):  40\n",
      "Ranges that kept:  bmi !< -38.5 or bmi !>112.69999999999999\n",
      "Number of exteme removed:  0\n",
      "Number of Lower Outlier assigned:  1\n",
      "Number of Upper Outlier assigned:  39\n",
      "Number of Outliers / Extemes (AFTER):  0\n",
      "Number of instances after removal:  1419\n"
     ]
    }
   ],
   "source": [
    "# Print out the boxplot before removal\n",
    "# APPLYING FILTERS\n",
    "\n",
    "beforeCount = selectedData.select(elementsToCheck).count()\n",
    "print(\"Number of instances before removal: \",beforeCount)\n",
    "\n",
    "\n",
    "# CHECK NUMBER OF OUTLIER/EXTREMES\n",
    "quantiles = selectedData.stat.approxQuantile(elementsToCheck, [0.25,0.75],0.0)\n",
    "IQR = quantiles[1] - quantiles[0]\n",
    "\n",
    "LowerRange = quantiles[0] - 1.5 * IQR\n",
    "UpperRange = quantiles[1] + 1.5 * IQR\n",
    "\n",
    "query = elementsToCheck + \" < \" + str(LowerRange) + \" or \" + elementsToCheck + \" >\" + str(UpperRange)\n",
    "print(\"Number of Outliers / Extemes (BEFORE): \",selectedData.filter(query).count())\n",
    "\n",
    "\n",
    "# REMOVE EXTREMES\n",
    "extremeQuantiles = selectedData.stat.approxQuantile(elementsToCheck, [0.05,0.995],0.0)\n",
    "IQR = extremeQuantiles[1] - extremeQuantiles[0]\n",
    "\n",
    "LowerRange = extremeQuantiles[0] - 1.5 * IQR\n",
    "UpperRange = extremeQuantiles[1] + 1.5 * IQR\n",
    "\n",
    "query = elementsToCheck + \" !< \" + str(LowerRange) + \" or \" + elementsToCheck + \" !>\" + str(UpperRange)\n",
    "print(\"Ranges that kept: \", query)\n",
    "\n",
    "selectedData = selectedData.filter(query)\n",
    "print(\"Number of exteme removed: \",beforeCount - selectedData.select(elementsToCheck).count())\n",
    "\n",
    "\n",
    "# Check Outliers\n",
    "quantiles = selectedData.stat.approxQuantile(elementsToCheck, [0.25,0.75],0.0)\n",
    "IQR = quantiles[1] - quantiles[0]\n",
    "\n",
    "LowerRange = quantiles[0] - 1.5 * IQR\n",
    "UpperRange = quantiles[1] + 1.5 * IQR\n",
    "\n",
    "# Fill lower outliers\n",
    "\n",
    "selectedData = selectedData.withColumn(elementsToCheck, when(col(elementsToCheck) < LowerRange, None).otherwise(col(elementsToCheck)))\n",
    "print(\"Number of Lower Outlier assigned: \", selectedData.filter(elementsToCheck + \" is null or \" + elementsToCheck + \" == 'Unknown'\").count())\n",
    "selectedData = selectedData.fillna(LowerRange, subset = elementsToCheck)\n",
    "\n",
    "# Fill upper outliers\n",
    "\n",
    "selectedData = selectedData.withColumn(elementsToCheck, when(col(elementsToCheck) > UpperRange, None).otherwise(col(elementsToCheck)))\n",
    "print(\"Number of Upper Outlier assigned: \", selectedData.filter(elementsToCheck + \" is null or \" + elementsToCheck + \" == 'Unknown'\").count())\n",
    "selectedData = selectedData.fillna(UpperRange, subset = elementsToCheck)\n",
    "\n",
    "selectedData.filter(query).count()\n",
    "\n",
    "\n",
    "# CHECK NUMBER OF OUTLIER/EXTREMES\n",
    "quantiles = selectedData.stat.approxQuantile(elementsToCheck, [0.25,0.75],0.0)\n",
    "IQR = quantiles[1] - quantiles[0]\n",
    "\n",
    "LowerRange = quantiles[0] - 1.5 * IQR\n",
    "UpperRange = quantiles[1] + 1.5 * IQR\n",
    "\n",
    "query = elementsToCheck + \" < \" + str(LowerRange) + \" or \" + elementsToCheck + \" >\" + str(UpperRange)\n",
    "print(\"Number of Outliers / Extemes (AFTER): \",selectedData.filter(query).count())\n",
    "\n",
    "\n",
    "print(\"Number of instances after removal: \",selectedData.select(elementsToCheck).count())"
   ]
  },
  {
   "cell_type": "code",
   "execution_count": 16,
   "metadata": {},
   "outputs": [
    {
     "data": {
      "text/plain": [
       "<matplotlib.axes._subplots.AxesSubplot at 0x7f1519b726d8>"
      ]
     },
     "execution_count": 16,
     "metadata": {},
     "output_type": "execute_result"
    },
    {
     "data": {
      "image/png": "[encoded data removed]",
      "text/plain": [
       "<Figure size 432x288 with 1 Axes>"
      ]
     },
     "metadata": {},
     "output_type": "display_data"
    }
   ],
   "source": [
    "# AFTER ---- WITHOUTLIER OUTLIER BOXPLOT\n",
    "selectedDataPd = selectedData.toPandas()\n",
    "selectedDataPd.boxplot(column=[elementsToCheck])"
   ]
  },
  {
   "cell_type": "code",
   "execution_count": 17,
   "metadata": {},
   "outputs": [
    {
     "data": {
      "text/plain": [
       "<matplotlib.axes._subplots.AxesSubplot at 0x7f14e7a95898>"
      ]
     },
     "execution_count": 17,
     "metadata": {},
     "output_type": "execute_result"
    },
    {
     "data": {
      "image/png": "[encoded data removed]",
      "text/plain": [
       "<Figure size 432x288 with 1 Axes>"
      ]
     },
     "metadata": {},
     "output_type": "display_data"
    }
   ],
   "source": [
    "# avg_glucose_level\n",
    "# BEFORE ---- WITH OUTLIER BOXPLOT\n",
    "elementsToCheck = \"avg_glucose_level\"\n",
    "selectedDataPd = selectedData.toPandas()\n",
    "selectedDataPd.boxplot(column=[elementsToCheck])"
   ]
  },
  {
   "cell_type": "code",
   "execution_count": 18,
   "metadata": {},
   "outputs": [
    {
     "name": "stdout",
     "output_type": "stream",
     "text": [
      "Number of instances before removal:  1419\n",
      "Number of Outliers / Extemes (BEFORE):  191\n",
      "Ranges that kept:  avg_glucose_level !< -225.71 or avg_glucose_level !>538.61\n",
      "Number of exteme removed:  0\n",
      "Number of Lower Outlier assigned:  0\n",
      "Number of Upper Outlier assigned:  191\n",
      "Number of Outliers / Extemes (AFTER):  0\n",
      "Number of instances after removal:  1419\n"
     ]
    }
   ],
   "source": [
    "# Print out the boxplot before removal\n",
    "# APPLYING FILTERS\n",
    "\n",
    "beforeCount = selectedData.select(elementsToCheck).count()\n",
    "print(\"Number of instances before removal: \",beforeCount)\n",
    "\n",
    "\n",
    "# CHECK NUMBER OF OUTLIER/EXTREMES\n",
    "quantiles = selectedData.stat.approxQuantile(elementsToCheck, [0.25,0.75],0.0)\n",
    "IQR = quantiles[1] - quantiles[0]\n",
    "\n",
    "LowerRange = quantiles[0] - 1.5 * IQR\n",
    "UpperRange = quantiles[1] + 1.5 * IQR\n",
    "\n",
    "query = elementsToCheck + \" < \" + str(LowerRange) + \" or \" + elementsToCheck + \" >\" + str(UpperRange)\n",
    "print(\"Number of Outliers / Extemes (BEFORE): \",selectedData.filter(query).count())\n",
    "\n",
    "\n",
    "# REMOVE EXTREMES\n",
    "extremeQuantiles = selectedData.stat.approxQuantile(elementsToCheck, [0.05,0.995],0.0)\n",
    "IQR = extremeQuantiles[1] - extremeQuantiles[0]\n",
    "\n",
    "LowerRange = extremeQuantiles[0] - 1.5 * IQR\n",
    "UpperRange = extremeQuantiles[1] + 1.5 * IQR\n",
    "\n",
    "query = elementsToCheck + \" !< \" + str(LowerRange) + \" or \" + elementsToCheck + \" !>\" + str(UpperRange)\n",
    "print(\"Ranges that kept: \", query)\n",
    "\n",
    "selectedData = selectedData.filter(query)\n",
    "print(\"Number of exteme removed: \",beforeCount - selectedData.select(elementsToCheck).count())\n",
    "\n",
    "\n",
    "# Check Outliers\n",
    "quantiles = selectedData.stat.approxQuantile(elementsToCheck, [0.25,0.75],0.0)\n",
    "IQR = quantiles[1] - quantiles[0]\n",
    "\n",
    "LowerRange = quantiles[0] - 1.5 * IQR\n",
    "UpperRange = quantiles[1] + 1.5 * IQR\n",
    "\n",
    "# Fill lower outliers\n",
    "\n",
    "selectedData = selectedData.withColumn(elementsToCheck, when(col(elementsToCheck) < LowerRange, None).otherwise(col(elementsToCheck)))\n",
    "print(\"Number of Lower Outlier assigned: \", selectedData.filter(elementsToCheck + \" is null or \" + elementsToCheck + \" == 'Unknown'\").count())\n",
    "selectedData = selectedData.fillna(LowerRange, subset = elementsToCheck)\n",
    "\n",
    "# Fill upper outliers\n",
    "\n",
    "selectedData = selectedData.withColumn(elementsToCheck, when(col(elementsToCheck) > UpperRange, None).otherwise(col(elementsToCheck)))\n",
    "print(\"Number of Upper Outlier assigned: \", selectedData.filter(elementsToCheck + \" is null or \" + elementsToCheck + \" == 'Unknown'\").count())\n",
    "selectedData = selectedData.fillna(UpperRange, subset = elementsToCheck)\n",
    "\n",
    "selectedData.filter(query).count()\n",
    "\n",
    "\n",
    "# CHECK NUMBER OF OUTLIER/EXTREMES\n",
    "quantiles = selectedData.stat.approxQuantile(elementsToCheck, [0.25,0.75],0.0)\n",
    "IQR = quantiles[1] - quantiles[0]\n",
    "\n",
    "LowerRange = quantiles[0] - 1.5 * IQR\n",
    "UpperRange = quantiles[1] + 1.5 * IQR\n",
    "\n",
    "query = elementsToCheck + \" < \" + str(LowerRange) + \" or \" + elementsToCheck + \" >\" + str(UpperRange)\n",
    "print(\"Number of Outliers / Extemes (AFTER): \",selectedData.filter(query).count() )\n",
    "\n",
    "\n",
    "print(\"Number of instances after removal: \",selectedData.select(elementsToCheck).count())\n"
   ]
  },
  {
   "cell_type": "code",
   "execution_count": 19,
   "metadata": {},
   "outputs": [
    {
     "data": {
      "text/plain": [
       "<matplotlib.axes._subplots.AxesSubplot at 0x7f14e7a5a6d8>"
      ]
     },
     "execution_count": 19,
     "metadata": {},
     "output_type": "execute_result"
    },
    {
     "data": {
      "image/png": "[encoded data removed]",
      "text/plain": [
       "<Figure size 432x288 with 1 Axes>"
      ]
     },
     "metadata": {},
     "output_type": "display_data"
    }
   ],
   "source": [
    "# AFTER ---- WITHOUTLIER OUTLIER BOXPLOT\n",
    "selectedDataPd = selectedData.toPandas()\n",
    "selectedDataPd.boxplot(column=[elementsToCheck])"
   ]
  },
  {
   "cell_type": "code",
   "execution_count": 20,
   "metadata": {},
   "outputs": [],
   "source": [
    "#### 3.3 Feature Creation"
   ]
  },
  {
   "cell_type": "code",
   "execution_count": 21,
   "metadata": {},
   "outputs": [
    {
     "name": "stdout",
     "output_type": "stream",
     "text": [
      "root\n",
      " |-- id: string (nullable = true)\n",
      " |-- gender: string (nullable = true)\n",
      " |-- age: double (nullable = true)\n",
      " |-- hypertension: string (nullable = true)\n",
      " |-- heart_disease: string (nullable = true)\n",
      " |-- ever_married: string (nullable = true)\n",
      " |-- work_type: string (nullable = true)\n",
      " |-- avg_glucose_level: double (nullable = false)\n",
      " |-- bmi: double (nullable = false)\n",
      " |-- smoking_status: string (nullable = false)\n",
      " |-- stroke: string (nullable = true)\n",
      " |-- bmi_cate: string (nullable = false)\n",
      "\n",
      "+-----------+\n",
      "|   bmi_cate|\n",
      "+-----------+\n",
      "| Overweight|\n",
      "|Underweight|\n",
      "|      Obese|\n",
      "|     Normal|\n",
      "+-----------+\n",
      "\n"
     ]
    }
   ],
   "source": [
    "#BMI Categories\n",
    "selectedData = selectedData.withColumn(\"bmi_cate\", selectedData[\"bmi\"])\n",
    "\n",
    "#Change tyep of bmi_cate\n",
    "selectedData = selectedData.withColumn(\"bmi_cate\",col(\"bmi_cate\").cast(StringType()))\n",
    "selectedData.printSchema()\n",
    "\n",
    "from pyspark.sql.functions import when\n",
    "selectedData = selectedData.withColumn(\"bmi_cate\", when(selectedData.bmi < 18.5, \"Underweight\") \\\n",
    "                                       .when((selectedData.bmi >= 18.5) & (selectedData.bmi <= 24.9), \"Normal\") \\\n",
    "                                       .when((selectedData.bmi >= 25.0) & (selectedData.bmi <= 29.9), \"Overweight\") \\\n",
    "                                       .when(selectedData.bmi >= 30, \"Obese\"))\n",
    "\n",
    "selectedData.select(\"bmi_cate\").distinct().show()\n",
    "selectedData = selectedData.drop(\"bmi\")"
   ]
  },
  {
   "cell_type": "code",
   "execution_count": 22,
   "metadata": {},
   "outputs": [
    {
     "name": "stdout",
     "output_type": "stream",
     "text": [
      "root\n",
      " |-- id: string (nullable = true)\n",
      " |-- gender: string (nullable = true)\n",
      " |-- age: double (nullable = true)\n",
      " |-- hypertension: string (nullable = true)\n",
      " |-- heart_disease: string (nullable = true)\n",
      " |-- ever_married: string (nullable = true)\n",
      " |-- work_type: string (nullable = true)\n",
      " |-- avg_glucose_level: double (nullable = false)\n",
      " |-- smoking_status: string (nullable = false)\n",
      " |-- stroke: string (nullable = true)\n",
      " |-- bmi_cate: string (nullable = true)\n",
      " |-- work_type_new: string (nullable = true)\n",
      "\n",
      "Existing Categories: \n",
      "+-------------+\n",
      "|    work_type|\n",
      "+-------------+\n",
      "| Never_worked|\n",
      "|Self-employed|\n",
      "|      Private|\n",
      "|     children|\n",
      "|     Govt_job|\n",
      "+-------------+\n",
      "\n",
      "New Categories: \n",
      "+-------------+\n",
      "|work_type_new|\n",
      "+-------------+\n",
      "| Never_worked|\n",
      "|      Private|\n",
      "|     Govt_job|\n",
      "+-------------+\n",
      "\n"
     ]
    }
   ],
   "source": [
    "#work Categories\n",
    "selectedData = selectedData.withColumn(\"work_type_new\", selectedData[\"work_type\"])\n",
    "\n",
    "#Change tyep of bmi_cate\n",
    "selectedData = selectedData.withColumn(\"work_type_new\",col(\"work_type_new\").cast(StringType()))\n",
    "selectedData.printSchema()\n",
    "\n",
    "print(\"Existing Categories: \")\n",
    "selectedData.select(\"work_type\").distinct().show()\n",
    "\n",
    "selectedData = selectedData.withColumn(\"work_type_new\", when(selectedData.work_type == \"children\", \"Never_worked\") \\\n",
    "                                       .when(selectedData.work_type == \"Never_worked\", \"Never_worked\") \\\n",
    "                                       .when(selectedData.work_type == \"Govt_job\", \"Govt_job\") \\\n",
    "                                       .when(selectedData.work_type == \"Self-employed\", \"Private\") \\\n",
    "                                       .when(selectedData.work_type == \"Private\", \"Private\"))\n",
    "\n",
    "print(\"New Categories: \")\n",
    "selectedData.select(\"work_type_new\").distinct().show()\n",
    "selectedData = selectedData.drop(\"work_type\")"
   ]
  },
  {
   "cell_type": "code",
   "execution_count": 23,
   "metadata": {},
   "outputs": [],
   "source": [
    "#### 3.5 Data Formatting"
   ]
  },
  {
   "cell_type": "code",
   "execution_count": 24,
   "metadata": {},
   "outputs": [
    {
     "name": "stdout",
     "output_type": "stream",
     "text": [
      "+------+-----------+-------------+------------------+----------+-------------+---------------+-------------------+\n",
      "|gender|genderIndex|work_type_new|work_type_newIndex|  bmi_cate|bmi_cateIndex| smoking_status|smoking_statusIndex|\n",
      "+------+-----------+-------------+------------------+----------+-------------+---------------+-------------------+\n",
      "|  Male|        1.0|      Private|               0.0|     Obese|          0.0|formerly smoked|                2.0|\n",
      "|  Male|        1.0|      Private|               0.0|     Obese|          0.0|   never smoked|                1.0|\n",
      "|Female|        0.0|      Private|               0.0|     Obese|          0.0|         smokes|                0.0|\n",
      "|Female|        0.0|      Private|               0.0|    Normal|          2.0|   never smoked|                1.0|\n",
      "|  Male|        1.0|      Private|               0.0|Overweight|          1.0|formerly smoked|                2.0|\n",
      "|  Male|        1.0|      Private|               0.0|Overweight|          1.0|   never smoked|                1.0|\n",
      "|Female|        0.0|      Private|               0.0|    Normal|          2.0|   never smoked|                1.0|\n",
      "|Female|        0.0|      Private|               0.0|    Normal|          2.0|         smokes|                0.0|\n",
      "|Female|        0.0|      Private|               0.0|Overweight|          1.0|   never smoked|                1.0|\n",
      "|Female|        0.0|     Govt_job|               2.0|     Obese|          0.0|         smokes|                0.0|\n",
      "+------+-----------+-------------+------------------+----------+-------------+---------------+-------------------+\n",
      "only showing top 10 rows\n",
      "\n"
     ]
    }
   ],
   "source": [
    "from pyspark.ml.feature import StringIndexer\n",
    "\n",
    "# GENDER\n",
    "indexer = StringIndexer(inputCol=\"gender\", outputCol=\"genderIndex\")\n",
    "selectedData = indexer.fit(selectedData).transform(selectedData)\n",
    "\n",
    "# # work_type_new\n",
    "indexer = StringIndexer(inputCol=\"work_type_new\", outputCol=\"work_type_newIndex\")\n",
    "selectedData = indexer.fit(selectedData).transform(selectedData)\n",
    "\n",
    "# # bmi_cate\n",
    "indexer = StringIndexer(inputCol=\"bmi_cate\", outputCol=\"bmi_cateIndex\")\n",
    "selectedData = indexer.fit(selectedData).transform(selectedData)\n",
    "\n",
    "# # smoking_status\n",
    "indexer = StringIndexer(inputCol=\"smoking_status\", outputCol=\"smoking_statusIndex\")\n",
    "selectedData = indexer.fit(selectedData).transform(selectedData)\n",
    "\n",
    "# # ever_married\n",
    "indexer = StringIndexer(inputCol=\"ever_married\", outputCol=\"ever_marriedIndex\")\n",
    "selectedData = indexer.fit(selectedData).transform(selectedData)\n",
    "\n",
    "selectedData.select([\"gender\",\"genderIndex\", \"work_type_new\",\"work_type_newIndex\", \"bmi_cate\",\"bmi_cateIndex\",\"smoking_status\",\"smoking_statusIndex\"]).show(10)\n",
    "selectedData = selectedData.drop(\"gender\", \"work_type_new\", \"bmi_cate\", \"smoking_status\", \"ever_married\")"
   ]
  },
  {
   "cell_type": "code",
   "execution_count": 25,
   "metadata": {},
   "outputs": [],
   "source": [
    "#### Section 4 Data Transformation ####"
   ]
  },
  {
   "cell_type": "code",
   "execution_count": 26,
   "metadata": {},
   "outputs": [
    {
     "name": "stdout",
     "output_type": "stream",
     "text": [
      "Number of Attributes:  11\n"
     ]
    },
    {
     "data": {
      "text/plain": [
       "['id',\n",
       " 'age',\n",
       " 'hypertension',\n",
       " 'heart_disease',\n",
       " 'avg_glucose_level',\n",
       " 'stroke',\n",
       " 'genderIndex',\n",
       " 'work_type_newIndex',\n",
       " 'bmi_cateIndex',\n",
       " 'smoking_statusIndex',\n",
       " 'ever_marriedIndex']"
      ]
     },
     "execution_count": 26,
     "metadata": {},
     "output_type": "execute_result"
    }
   ],
   "source": [
    "# 4.1 Data Reduction\n",
    "### Feature Importance Evaluate\n",
    "print(\"Number of Attributes: \",len(selectedData.columns))\n",
    "selectedData.columns"
   ]
  },
  {
   "cell_type": "code",
   "execution_count": 27,
   "metadata": {},
   "outputs": [
    {
     "name": "stdout",
     "output_type": "stream",
     "text": [
      "root\n",
      " |-- id: integer (nullable = true)\n",
      " |-- age: double (nullable = true)\n",
      " |-- hypertension: integer (nullable = true)\n",
      " |-- heart_disease: integer (nullable = true)\n",
      " |-- avg_glucose_level: double (nullable = false)\n",
      " |-- stroke: integer (nullable = true)\n",
      " |-- genderIndex: double (nullable = true)\n",
      " |-- work_type_newIndex: double (nullable = true)\n",
      " |-- bmi_cateIndex: double (nullable = true)\n",
      " |-- smoking_statusIndex: double (nullable = true)\n",
      " |-- ever_marriedIndex: double (nullable = true)\n",
      "\n"
     ]
    }
   ],
   "source": [
    "selectedData = selectedData.withColumn(\"id\",col(\"id\").cast(IntegerType())) \\\n",
    "    .withColumn(\"hypertension\",col(\"hypertension\").cast(IntegerType())) \\\n",
    "    .withColumn(\"heart_disease\",col(\"heart_disease\").cast(IntegerType()))\\\n",
    "    .withColumn(\"stroke\",col(\"stroke\").cast(IntegerType()))\n",
    "selectedData.printSchema() "
   ]
  },
  {
   "cell_type": "code",
   "execution_count": 28,
   "metadata": {},
   "outputs": [
    {
     "data": {
      "text/plain": [
       "SparseVector(10, {0: 0.1032, 1: 0.4331, 2: 0.0942, 3: 0.099, 4: 0.1384, 5: 0.0174, 6: 0.0072, 7: 0.025, 8: 0.0469, 9: 0.0355})"
      ]
     },
     "execution_count": 28,
     "metadata": {},
     "output_type": "execute_result"
    }
   ],
   "source": [
    "### Feature Importance Evaluate\n",
    "from pyspark.ml.linalg import Vectors\n",
    "from pyspark.ml.feature import VectorAssembler\n",
    "\n",
    "from pyspark.ml.classification import RandomForestClassifier\n",
    "assembler = VectorAssembler(inputCols=['id',\n",
    "                             'age',\n",
    "                             'hypertension',\n",
    "                             'heart_disease',\n",
    "                             'avg_glucose_level',\n",
    "                             'genderIndex',\n",
    "                             'work_type_newIndex',\n",
    "                             'bmi_cateIndex',\n",
    "                             'smoking_statusIndex',\n",
    "                             'ever_marriedIndex'],\n",
    "                              outputCol=\"features\")\n",
    "\n",
    "selectedData = assembler.transform(selectedData)\n",
    "\n",
    "selectedData_test = selectedData.select(\"stroke\",\"features\")\n",
    "rf = RandomForestClassifier(labelCol=\"stroke\", featuresCol = \"features\")\n",
    "model = rf.fit(selectedData_test)\n",
    "model.featureImportances"
   ]
  },
  {
   "cell_type": "code",
   "execution_count": 29,
   "metadata": {},
   "outputs": [
    {
     "name": "stdout",
     "output_type": "stream",
     "text": [
      "Before:  ['id', 'age', 'hypertension', 'heart_disease', 'avg_glucose_level', 'stroke', 'genderIndex', 'work_type_newIndex', 'bmi_cateIndex', 'smoking_statusIndex', 'ever_marriedIndex', 'features']\n",
      "After:  ['age', 'hypertension', 'heart_disease', 'avg_glucose_level', 'stroke', 'bmi_cateIndex']\n"
     ]
    }
   ],
   "source": [
    "# Remove those less importance\n",
    "print(\"Before: \", selectedData.columns)\n",
    "selectedData = selectedData.drop(\"id\", \"genderIndex\", \"work_type_newIndex\", \"smoking_statusIndex\", \"ever_marriedIndex\", \"features\")\n",
    "print(\"After: \", selectedData.columns)"
   ]
  },
  {
   "cell_type": "code",
   "execution_count": 30,
   "metadata": {},
   "outputs": [
    {
     "data": {
      "image/png": "[encoded data removed]",
      "text/plain": [
       "<Figure size 432x288 with 1 Axes>"
      ]
     },
     "metadata": {},
     "output_type": "display_data"
    }
   ],
   "source": [
    "# 4.2 Data Projection\n",
    "import matplotlib.pyplot as plt\n",
    "\n",
    "#BEFORE\n",
    "strokeData = selectedData.filter(\"stroke == 1\")\n",
    "nonStrokeData = selectedData.filter(\"stroke == 0\")\n",
    "\n",
    "fig = plt.figure()\n",
    "ax = fig.add_axes([0,0,1,1])\n",
    "xlab = [\"Non-Stroke\", \"Stroke\"]\n",
    "x = [nonStrokeData.count(),strokeData.count()]\n",
    "\n",
    "ax.bar(xlab,x)\n",
    "plt.show()"
   ]
  },
  {
   "cell_type": "code",
   "execution_count": 31,
   "metadata": {},
   "outputs": [
    {
     "name": "stdout",
     "output_type": "stream",
     "text": [
      "Non-Stroke:  1210\n",
      "Stroke:  209\n",
      "Number of Instances after selection:  2420\n"
     ]
    }
   ],
   "source": [
    "# PROCESS\n",
    "print(\"Non-Stroke: \", nonStrokeData.count())\n",
    "print(\"Stroke: \", strokeData.count())\n",
    "\n",
    "oversamplingStrokeData = strokeData.sample(True, 8.0).limit(nonStrokeData.count())\n",
    "selectedData = nonStrokeData.union(oversamplingStrokeData)\n",
    "print(\"Number of Instances after selection: \",selectedData.count())"
   ]
  },
  {
   "cell_type": "code",
   "execution_count": 32,
   "metadata": {},
   "outputs": [
    {
     "data": {
      "image/png": "[encoded data removed]",
      "text/plain": [
       "<Figure size 432x288 with 1 Axes>"
      ]
     },
     "metadata": {},
     "output_type": "display_data"
    }
   ],
   "source": [
    "#AFTER\n",
    "strokeData = selectedData.filter(\"stroke == 1\")\n",
    "nonStrokeData = selectedData.filter(\"stroke == 0\")\n",
    "\n",
    "fig = plt.figure()\n",
    "ax = fig.add_axes([0,0,1,1])\n",
    "xlab = [\"Non-Stroke\", \"Stroke\"]\n",
    "x = [nonStrokeData.count(),strokeData.count()]\n",
    "\n",
    "ax.bar(xlab,x)\n",
    "plt.show()"
   ]
  },
  {
   "cell_type": "code",
   "execution_count": 33,
   "metadata": {},
   "outputs": [],
   "source": [
    "#### Section 6 Data Mining Algorithms ####"
   ]
  },
  {
   "cell_type": "code",
   "execution_count": 34,
   "metadata": {},
   "outputs": [
    {
     "name": "stdout",
     "output_type": "stream",
     "text": [
      "Num of Train:  1686\n",
      "Num of Test:  734\n"
     ]
    }
   ],
   "source": [
    "# 6.2 Algorithm Analysis\n",
    "\n",
    "# Prepare Data as Attribute and Label\n",
    "selectedData.columns\n",
    "assembler = VectorAssembler(inputCols=['age',\n",
    "                             'hypertension',\n",
    "                             'heart_disease',\n",
    "                             'avg_glucose_level',\n",
    "                             'bmi_cateIndex'],\n",
    "                              outputCol=\"features\")\n",
    "\n",
    "finalData = assembler.transform(selectedData)\n",
    "\n",
    "# 7.1 Train /Test Split\n",
    "# Split Train / Test datasets\n",
    "train_data,test_data = finalData.randomSplit([0.7,0.3])\n",
    "\n",
    "print(\"Num of Train: \", train_data.count())\n",
    "print(\"Num of Test: \", test_data.count())"
   ]
  },
  {
   "cell_type": "code",
   "execution_count": 35,
   "metadata": {},
   "outputs": [],
   "source": [
    "#Evaluation Function\n",
    "def evaluation(data):\n",
    "    tp = data[(data.prediction == 1) & (data.stroke == 1)].count()\n",
    "    tn = data[(data.prediction == 0) & (data.stroke == 0)].count()\n",
    "    fn = data[(data.prediction == 0) & (data.stroke == 1)].count()\n",
    "    fp = data[(data.prediction == 1) & (data.stroke == 0)].count()\n",
    "    \n",
    "    print(\"Confusion Matrix\")\n",
    "    print(\"[\" + str(tp) + \"  \" + str(fp))\n",
    "    print(\" \" + str(fn) + \"  \" + str(tn) + \"]\")"
   ]
  },
  {
   "cell_type": "code",
   "execution_count": 36,
   "metadata": {},
   "outputs": [
    {
     "name": "stdout",
     "output_type": "stream",
     "text": [
      "Random Forest ---\n",
      "Time Elapsed:  4.327666997909546\n",
      "RFC Accuracy:  0.8828366298408172\n",
      "Confusion Matrix\n",
      "[329  102\n",
      " 39  264]\n"
     ]
    }
   ],
   "source": [
    "# # Random Forest\n",
    "from pyspark.ml.evaluation import BinaryClassificationEvaluator\n",
    "import time\n",
    "\n",
    "print(\"Random Forest ---\")\n",
    "start = time.time()\n",
    "rfc = RandomForestClassifier(labelCol=\"stroke\", featuresCol = \"features\")\n",
    "rfc_model = rfc.fit(train_data)\n",
    "rfc_predictions = rfc_model.transform(test_data)\n",
    "end = time.time()\n",
    "print(\"Time Elapsed: \", end - start)\n",
    "\n",
    "binary_eval = BinaryClassificationEvaluator(labelCol = 'stroke')\n",
    "print(\"RFC Accuracy: \",binary_eval.evaluate(rfc_predictions))\n",
    "evaluation(rfc_predictions)\n"
   ]
  },
  {
   "cell_type": "code",
   "execution_count": 37,
   "metadata": {},
   "outputs": [
    {
     "name": "stdout",
     "output_type": "stream",
     "text": [
      "Naive Bayes ---\n",
      "Time Elapsed:  3.727915048599243\n",
      "NB Accuracy:  0.18124851508671896\n",
      "Confusion Matrix\n",
      "[216  130\n",
      " 152  236]\n"
     ]
    }
   ],
   "source": [
    "from pyspark.ml.classification import NaiveBayes\n",
    "\n",
    "print(\"Naive Bayes ---\")\n",
    "start = time.time()\n",
    "nb = NaiveBayes(labelCol=\"stroke\", featuresCol = \"features\")\n",
    "nb_model = nb.fit(train_data)\n",
    "nb_predictions = nb_model.transform(test_data)\n",
    "end = time.time()\n",
    "print(\"Time Elapsed: \", end - start)\n",
    "\n",
    "print(\"NB Accuracy: \",binary_eval.evaluate(nb_predictions))\n",
    "evaluation(nb_predictions)"
   ]
  },
  {
   "cell_type": "code",
   "execution_count": 38,
   "metadata": {},
   "outputs": [
    {
     "name": "stdout",
     "output_type": "stream",
     "text": [
      "Logistic Regression ---\n",
      "Time Elapsed:  3.805750608444214\n",
      "NB Accuracy:  0.8423987289142318\n",
      "Confusion Matrix\n",
      "[278  102\n",
      " 90  264]\n"
     ]
    }
   ],
   "source": [
    "from pyspark.ml.classification import LogisticRegression\n",
    "\n",
    "print(\"Logistic Regression ---\")\n",
    "start = time.time()\n",
    "lr = LogisticRegression(labelCol=\"stroke\", featuresCol = \"features\")\n",
    "lr_model = lr.fit(train_data)\n",
    "lr_predictions = lr_model.transform(test_data)\n",
    "end = time.time()\n",
    "print(\"Time Elapsed: \", end - start)\n",
    "\n",
    "print(\"NB Accuracy: \",binary_eval.evaluate(lr_predictions))\n",
    "evaluation(lr_predictions)"
   ]
  },
  {
   "cell_type": "code",
   "execution_count": 39,
   "metadata": {},
   "outputs": [
    {
     "name": "stdout",
     "output_type": "stream",
     "text": [
      "Number of Trees:  20  Depth:  5 -----------------\n",
      "Time Elapsed:  3.6035945415496826\n",
      "RFC Accuracy:  0.8828366298408172\n",
      "Number of Trees:  20  Depth:  10 -----------------\n",
      "Time Elapsed:  4.767203092575073\n",
      "RFC Accuracy:  0.9549068959372775\n",
      "Number of Trees:  20  Depth:  20 -----------------\n",
      "Time Elapsed:  5.831174612045288\n",
      "RFC Accuracy:  0.9692994179139938\n",
      "Number of Trees:  50  Depth:  5 -----------------\n",
      "Time Elapsed:  2.928515911102295\n",
      "RFC Accuracy:  0.8850454383464009\n",
      "Number of Trees:  50  Depth:  10 -----------------\n",
      "Time Elapsed:  5.7894673347473145\n",
      "RFC Accuracy:  0.9569041043003088\n",
      "Number of Trees:  50  Depth:  20 -----------------\n",
      "Time Elapsed:  8.241316795349121\n",
      "RFC Accuracy:  0.9709662330719886\n",
      "Number of Trees:  75  Depth:  5 -----------------\n",
      "Time Elapsed:  3.111769437789917\n",
      "RFC Accuracy:  0.8861034390591591\n",
      "Number of Trees:  75  Depth:  10 -----------------\n",
      "Time Elapsed:  5.359618186950684\n",
      "RFC Accuracy:  0.9582999227845095\n",
      "Number of Trees:  75  Depth:  20 -----------------\n",
      "Time Elapsed:  8.876191139221191\n",
      "RFC Accuracy:  0.9728594975053457\n",
      "Number of Trees:  100  Depth:  5 -----------------\n",
      "Time Elapsed:  3.5149316787719727\n",
      "RFC Accuracy:  0.8852755999049657\n",
      "Number of Trees:  100  Depth:  10 -----------------\n",
      "Time Elapsed:  5.794670104980469\n",
      "RFC Accuracy:  0.9607871525302922\n",
      "Number of Trees:  100  Depth:  20 -----------------\n",
      "Time Elapsed:  11.271251201629639\n",
      "RFC Accuracy:  0.9748492813019719\n"
     ]
    }
   ],
   "source": [
    "# 6.3 Parameter Tuning\n",
    "number_of_tree = [20, 50, 75, 100]\n",
    "max_depth = [5, 10, 20]\n",
    "\n",
    "for nTrees in number_of_tree:\n",
    "    for dpth in max_depth:\n",
    "        print(\"Number of Trees: \", nTrees, \" Depth: \", dpth, \"-----------------\")\n",
    "        \n",
    "        start = time.time()\n",
    "        rfc = RandomForestClassifier(labelCol=\"stroke\", featuresCol = \"features\", maxDepth = dpth, numTrees = nTrees)\n",
    "        rfc_model = rfc.fit(train_data)\n",
    "        rfc_predictions = rfc_model.transform(test_data)\n",
    "        end = time.time()\n",
    "        print(\"Time Elapsed: \", end - start)\n",
    "\n",
    "        binary_eval = BinaryClassificationEvaluator(labelCol = 'stroke')\n",
    "        print(\"RFC Accuracy: \",binary_eval.evaluate(rfc_predictions))\n"
   ]
  },
  {
   "cell_type": "code",
   "execution_count": 40,
   "metadata": {},
   "outputs": [
    {
     "name": "stdout",
     "output_type": "stream",
     "text": [
      "Random Forest --- Final Model\n",
      "Time Elapsed:  10.995705842971802\n",
      "RFC Accuracy:  0.9748492813019719\n",
      "Confusion Matrix\n",
      "[366  47\n",
      " 2  319]\n",
      "\n",
      "Precision:  0.8861985472154964\n",
      "Recall:  0.9945652173913043\n",
      "F1 : 0.9372599231754162\n"
     ]
    }
   ],
   "source": [
    "#### Section 7 Data Mining ####\n",
    "# 7.2 Data Mining Method\n",
    "\n",
    "print(\"Random Forest --- Final Model\")\n",
    "start = time.time()\n",
    "rfc = RandomForestClassifier(labelCol=\"stroke\", featuresCol = \"features\", maxDepth = dpth, numTrees = nTrees)\n",
    "rfc_model = rfc.fit(train_data)\n",
    "rfc_predictions = rfc_model.transform(test_data)\n",
    "end = time.time()\n",
    "print(\"Time Elapsed: \", end - start)\n",
    "\n",
    "binary_eval = BinaryClassificationEvaluator(labelCol = 'stroke')\n",
    "print(\"RFC Accuracy: \",binary_eval.evaluate(rfc_predictions))\n",
    "\n",
    "tp = rfc_predictions[(rfc_predictions.prediction == 1) & (rfc_predictions.stroke == 1)].count()\n",
    "tn = rfc_predictions[(rfc_predictions.prediction == 0) & (rfc_predictions.stroke == 0)].count()\n",
    "fn = rfc_predictions[(rfc_predictions.prediction == 0) & (rfc_predictions.stroke == 1)].count()\n",
    "fp = rfc_predictions[(rfc_predictions.prediction == 1) & (rfc_predictions.stroke == 0)].count()\n",
    "    \n",
    "print(\"Confusion Matrix\")\n",
    "print(\"[\" + str(tp) + \"  \" + str(fp))\n",
    "print(\" \" + str(fn) + \"  \" + str(tn) + \"]\" + \"\\n\")\n",
    "\n",
    "precision = float((tp)/(tp + fp))\n",
    "recall = float((tp)/(tp + fn))\n",
    "\n",
    "print(\"Precision: \",precision)\n",
    "print(\"Recall: \",recall)\n",
    "print(\"F1 :\",float(2 * precision * recall / (precision + recall)))\n"
   ]
  },
  {
   "cell_type": "code",
   "execution_count": 41,
   "metadata": {},
   "outputs": [
    {
     "name": "stdout",
     "output_type": "stream",
     "text": [
      "(5,[0,1,2,3,4],[0.5762491288444395,0.04872763593050932,0.0363463405931887,0.26074914068739585,0.07792775394446663])\n"
     ]
    },
    {
     "data": {
      "image/png": "[encoded data removed]",
      "text/plain": [
       "<Figure size 432x288 with 1 Axes>"
      ]
     },
     "metadata": {},
     "output_type": "display_data"
    }
   ],
   "source": [
    "# Feature Importance \n",
    "print(rfc_model.featureImportances)\n",
    "\n",
    "fig = plt.figure()\n",
    "ax = fig.add_axes([0,0,1,1])\n",
    "xlab = ['age', 'hypertension', 'heart_disease', 'avg_glucose_level', 'bmi_cateIndex']\n",
    "importance = [0.5629372269275104,0.04888393922270455,0.026654497640854542,0.27481496934045146,0.0867093668684791]\n",
    "\n",
    "ax.bar(xlab,importance)\n",
    "plt.show()"
   ]
  },
  {
   "cell_type": "code",
   "execution_count": null,
   "metadata": {},
   "outputs": [],
   "source": []
  },
  {
   "cell_type": "code",
   "execution_count": null,
   "metadata": {},
   "outputs": [],
   "source": []
  }
 ],
 "metadata": {
  "kernelspec": {
   "display_name": "Python 3",
   "language": "python",
   "name": "python3"
  },
  "language_info": {
   "codemirror_mode": {
    "name": "ipython",
    "version": 3
   },
   "file_extension": ".py",
   "mimetype": "text/x-python",
   "name": "python",
   "nbconvert_exporter": "python",
   "pygments_lexer": "ipython3",
   "version": "3.5.2"
  }
 },
 "nbformat": 4,
 "nbformat_minor": 2
}
